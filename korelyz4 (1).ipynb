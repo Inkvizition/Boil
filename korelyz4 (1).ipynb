{
 "cells": [
  {
   "cell_type": "code",
   "execution_count": 8,
   "metadata": {},
   "outputs": [],
   "source": [
    "from sklearn import datasets\n",
    "import pandas as pd\n",
    "import matplotlib.pyplot as plt\n",
    "from pandas import read_csv, DataFrame\n",
    "from sklearn.neighbors import KNeighborsRegressor\n",
    "from sklearn.linear_model import LinearRegression, LogisticRegression\n",
    "from sklearn.svm import SVR\n",
    "from sklearn.ensemble import RandomForestRegressor\n",
    "from sklearn.metrics import r2_score\n",
    "from sklearn.model_selection import train_test_split"
   ]
  },
  {
   "cell_type": "code",
   "execution_count": 9,
   "metadata": {},
   "outputs": [],
   "source": [
    "df = pd.read_excel('D:/Dataset (1).xlsx')\n",
    "df = df.drop(0)\n",
    "# type(df)\n",
    "# df = df.set_index(\"Дата и время\")\n"
   ]
  },
  {
   "cell_type": "code",
   "execution_count": 10,
   "metadata": {},
   "outputs": [
    {
     "data": {
      "text/html": [
       "<div>\n",
       "<style scoped>\n",
       "    .dataframe tbody tr th:only-of-type {\n",
       "        vertical-align: middle;\n",
       "    }\n",
       "\n",
       "    .dataframe tbody tr th {\n",
       "        vertical-align: top;\n",
       "    }\n",
       "\n",
       "    .dataframe thead th {\n",
       "        text-align: right;\n",
       "    }\n",
       "</style>\n",
       "<table border=\"1\" class=\"dataframe\">\n",
       "  <thead>\n",
       "    <tr style=\"text-align: right;\">\n",
       "      <th></th>\n",
       "      <th>Дата и время</th>\n",
       "      <th>Расход газа к. А на интервале 1 час (SAS)</th>\n",
       "      <th>Содержание Nox в уходящих газах, корпус А</th>\n",
       "      <th>Содержание О2 в уходящих газах, слева, корпус А</th>\n",
       "      <th>Расход пара за котлом</th>\n",
       "      <th>Температура уходящих дымовых газов, Тух</th>\n",
       "      <th>КПД</th>\n",
       "      <th>Суммарная эколого-экономическая нагрузка объекта генерации</th>\n",
       "    </tr>\n",
       "  </thead>\n",
       "  <tbody>\n",
       "    <tr>\n",
       "      <th>1</th>\n",
       "      <td>2021-01-10 00:00:00</td>\n",
       "      <td>35170.011719</td>\n",
       "      <td>84.860184</td>\n",
       "      <td>1.739203</td>\n",
       "      <td>449.866211</td>\n",
       "      <td>321.178116</td>\n",
       "      <td>0.92093</td>\n",
       "      <td>49146.709668</td>\n",
       "    </tr>\n",
       "    <tr>\n",
       "      <th>2</th>\n",
       "      <td>2021-01-10 00:01:00</td>\n",
       "      <td>35169.171875</td>\n",
       "      <td>84.938499</td>\n",
       "      <td>1.637651</td>\n",
       "      <td>448.367188</td>\n",
       "      <td>321.212433</td>\n",
       "      <td>0.921626</td>\n",
       "      <td>49190.891481</td>\n",
       "    </tr>\n",
       "    <tr>\n",
       "      <th>3</th>\n",
       "      <td>2021-01-10 00:02:00</td>\n",
       "      <td>35168.332031</td>\n",
       "      <td>85.016808</td>\n",
       "      <td>1.715125</td>\n",
       "      <td>448.367188</td>\n",
       "      <td>321.24675</td>\n",
       "      <td>0.921091</td>\n",
       "      <td>49235.066709</td>\n",
       "    </tr>\n",
       "    <tr>\n",
       "      <th>4</th>\n",
       "      <td>2021-01-10 00:03:00</td>\n",
       "      <td>35167.496094</td>\n",
       "      <td>85.095123</td>\n",
       "      <td>1.6883</td>\n",
       "      <td>449.060974</td>\n",
       "      <td>321.337814</td>\n",
       "      <td>0.921269</td>\n",
       "      <td>49279.249664</td>\n",
       "    </tr>\n",
       "    <tr>\n",
       "      <th>5</th>\n",
       "      <td>2021-01-10 00:04:00</td>\n",
       "      <td>35166.65625</td>\n",
       "      <td>85.173431</td>\n",
       "      <td>1.674236</td>\n",
       "      <td>444.107147</td>\n",
       "      <td>321.46492</td>\n",
       "      <td>0.921356</td>\n",
       "      <td>49323.420566</td>\n",
       "    </tr>\n",
       "  </tbody>\n",
       "</table>\n",
       "</div>"
      ],
      "text/plain": [
       "         Дата и время Расход газа к. А на интервале 1 час (SAS)  \\\n",
       "1 2021-01-10 00:00:00                              35170.011719   \n",
       "2 2021-01-10 00:01:00                              35169.171875   \n",
       "3 2021-01-10 00:02:00                              35168.332031   \n",
       "4 2021-01-10 00:03:00                              35167.496094   \n",
       "5 2021-01-10 00:04:00                               35166.65625   \n",
       "\n",
       "  Содержание Nox в уходящих газах, корпус А  \\\n",
       "1                                 84.860184   \n",
       "2                                 84.938499   \n",
       "3                                 85.016808   \n",
       "4                                 85.095123   \n",
       "5                                 85.173431   \n",
       "\n",
       "  Содержание О2 в уходящих газах, слева, корпус А Расход пара за котлом  \\\n",
       "1                                        1.739203            449.866211   \n",
       "2                                        1.637651            448.367188   \n",
       "3                                        1.715125            448.367188   \n",
       "4                                          1.6883            449.060974   \n",
       "5                                        1.674236            444.107147   \n",
       "\n",
       "  Температура уходящих дымовых газов, Тух       КПД  \\\n",
       "1                              321.178116   0.92093   \n",
       "2                              321.212433  0.921626   \n",
       "3                               321.24675  0.921091   \n",
       "4                              321.337814  0.921269   \n",
       "5                               321.46492  0.921356   \n",
       "\n",
       "  Суммарная эколого-экономическая нагрузка объекта генерации  \n",
       "1                                       49146.709668          \n",
       "2                                       49190.891481          \n",
       "3                                       49235.066709          \n",
       "4                                       49279.249664          \n",
       "5                                       49323.420566          "
      ]
     },
     "execution_count": 10,
     "metadata": {},
     "output_type": "execute_result"
    }
   ],
   "source": [
    "df.head()\n"
   ]
  },
  {
   "cell_type": "code",
   "execution_count": 15,
   "metadata": {},
   "outputs": [
    {
     "data": {
      "text/html": [
       "<div>\n",
       "<style scoped>\n",
       "    .dataframe tbody tr th:only-of-type {\n",
       "        vertical-align: middle;\n",
       "    }\n",
       "\n",
       "    .dataframe tbody tr th {\n",
       "        vertical-align: top;\n",
       "    }\n",
       "\n",
       "    .dataframe thead th {\n",
       "        text-align: right;\n",
       "    }\n",
       "</style>\n",
       "<table border=\"1\" class=\"dataframe\">\n",
       "  <thead>\n",
       "    <tr style=\"text-align: right;\">\n",
       "      <th></th>\n",
       "    </tr>\n",
       "  </thead>\n",
       "  <tbody>\n",
       "  </tbody>\n",
       "</table>\n",
       "</div>"
      ],
      "text/plain": [
       "Empty DataFrame\n",
       "Columns: []\n",
       "Index: []"
      ]
     },
     "execution_count": 15,
     "metadata": {},
     "output_type": "execute_result"
    }
   ],
   "source": [
    "trn_test = df.drop([\"Дата и время\", \"КПД\", \"Суммарная эколого-экономическая нагрузка объекта генерации\"], axis=1)\r\n",
    "trn_test.corr()"
   ]
  },
  {
   "cell_type": "code",
   "execution_count": 16,
   "metadata": {},
   "outputs": [
    {
     "data": {
      "text/html": [
       "<div>\n",
       "<style scoped>\n",
       "    .dataframe tbody tr th:only-of-type {\n",
       "        vertical-align: middle;\n",
       "    }\n",
       "\n",
       "    .dataframe tbody tr th {\n",
       "        vertical-align: top;\n",
       "    }\n",
       "\n",
       "    .dataframe thead th {\n",
       "        text-align: right;\n",
       "    }\n",
       "</style>\n",
       "<table border=\"1\" class=\"dataframe\">\n",
       "  <thead>\n",
       "    <tr style=\"text-align: right;\">\n",
       "      <th></th>\n",
       "      <th>Расход газа к. А на интервале 1 час (SAS)</th>\n",
       "      <th>Содержание О2 в уходящих газах, слева, корпус А</th>\n",
       "      <th>Расход пара за котлом</th>\n",
       "      <th>Температура уходящих дымовых газов, Тух</th>\n",
       "    </tr>\n",
       "  </thead>\n",
       "  <tbody>\n",
       "    <tr>\n",
       "      <th>1</th>\n",
       "      <td>35170.011719</td>\n",
       "      <td>1.739203</td>\n",
       "      <td>449.866211</td>\n",
       "      <td>321.178116</td>\n",
       "    </tr>\n",
       "    <tr>\n",
       "      <th>2</th>\n",
       "      <td>35169.171875</td>\n",
       "      <td>1.637651</td>\n",
       "      <td>448.367188</td>\n",
       "      <td>321.212433</td>\n",
       "    </tr>\n",
       "    <tr>\n",
       "      <th>3</th>\n",
       "      <td>35168.332031</td>\n",
       "      <td>1.715125</td>\n",
       "      <td>448.367188</td>\n",
       "      <td>321.24675</td>\n",
       "    </tr>\n",
       "    <tr>\n",
       "      <th>4</th>\n",
       "      <td>35167.496094</td>\n",
       "      <td>1.6883</td>\n",
       "      <td>449.060974</td>\n",
       "      <td>321.337814</td>\n",
       "    </tr>\n",
       "    <tr>\n",
       "      <th>5</th>\n",
       "      <td>35166.65625</td>\n",
       "      <td>1.674236</td>\n",
       "      <td>444.107147</td>\n",
       "      <td>321.46492</td>\n",
       "    </tr>\n",
       "  </tbody>\n",
       "</table>\n",
       "</div>"
      ],
      "text/plain": [
       "  Расход газа к. А на интервале 1 час (SAS)  \\\n",
       "1                              35170.011719   \n",
       "2                              35169.171875   \n",
       "3                              35168.332031   \n",
       "4                              35167.496094   \n",
       "5                               35166.65625   \n",
       "\n",
       "  Содержание О2 в уходящих газах, слева, корпус А Расход пара за котлом  \\\n",
       "1                                        1.739203            449.866211   \n",
       "2                                        1.637651            448.367188   \n",
       "3                                        1.715125            448.367188   \n",
       "4                                          1.6883            449.060974   \n",
       "5                                        1.674236            444.107147   \n",
       "\n",
       "  Температура уходящих дымовых газов, Тух  \n",
       "1                              321.178116  \n",
       "2                              321.212433  \n",
       "3                               321.24675  \n",
       "4                              321.337814  \n",
       "5                               321.46492  "
      ]
     },
     "execution_count": 16,
     "metadata": {},
     "output_type": "execute_result"
    }
   ],
   "source": [
    "trg = df[\"Содержание Nox в уходящих газах, корпус А\"]\r\n",
    "trn = df.drop([\"Дата и время\", \"КПД\", \"Суммарная эколого-экономическая нагрузка объекта генерации\", \"Содержание Nox в уходящих газах, корпус А\"], axis=1)\r\n",
    "trn.head()"
   ]
  },
  {
   "cell_type": "code",
   "execution_count": 17,
   "metadata": {},
   "outputs": [],
   "source": [
    "Xtrn, Xtest, Ytrn, Ytest = train_test_split(trn, trg, test_size=0.6)"
   ]
  },
  {
   "cell_type": "code",
   "execution_count": 19,
   "metadata": {},
   "outputs": [
    {
     "data": {
      "image/png": "[encoded data removed]",
      "text/plain": [
       "<Figure size 432x288 with 1 Axes>"
      ]
     },
     "metadata": {
      "needs_background": "light"
     },
     "output_type": "display_data"
    },
    {
     "name": "stdout",
     "output_type": "stream",
     "text": [
      "0.9063564473408177\n"
     ]
    }
   ],
   "source": [
    "TestModels = DataFrame()\r\n",
    "tmp = {}\r\n",
    "#обучаем модель\r\n",
    "ReadyModel = LinearRegression().fit(Xtrn, Ytrn)\r\n",
    "yPredict = ReadyModel.predict(Xtest)\r\n",
    "x_ax = range(len(yPredict))\r\n",
    "plt.plot(x_ax, Ytest, label=\"original\")\r\n",
    "plt.plot(x_ax, yPredict, label=\"predicted\")\r\n",
    "plt.title(\"test and predicted data\")\r\n",
    "plt.xlabel('X-axis')\r\n",
    "plt.ylabel('Y-axis')\r\n",
    "plt.legend(loc='best',fancybox=True, shadow=True)\r\n",
    "plt.grid(True)\r\n",
    "plt.show()\r\n",
    "#вычисляем коэффициент детерминации\r\n",
    "tmp['R2_Y1'] = r2_score(Ytest, ReadyModel.predict(Xtest))\r\n",
    "print(tmp['R2_Y1'])\r\n",
    "#записываем данные и итоговый DataFrame\r\n",
    "TestModels = TestModels.append([tmp])"
   ]
  },
  {
   "cell_type": "code",
   "execution_count": 20,
   "metadata": {},
   "outputs": [],
   "source": [
    "def CalcHarmfulEmissions(gas, o2, steam, t):\r\n",
    "    x = {\"Расход газа к. А на интервале 1 час (SAS)\":pd.Series([gas], index=['1']), \"Содержание О2 в уходящих газах, слева, корпус А\":pd.Series([o2], index=['1']), \"Расход пара за котлом\":pd.Series([steam], index=['1']), \"Температура уходящих дымовых газов, Тух\":pd.Series([t], index=['1'])}\r\n",
    "    df = pd.DataFrame(x)\r\n",
    "    df.head() \r\n",
    "    # X.append(gas, o2, steam, t)\r\n",
    "    nox = ReadyModel.predict(df)\r\n",
    "    ecoLoad = 12.372*(((133.1*gas*nox)/0.1)/1000000)\r\n",
    "    return nox, ecoLoad\r\n",
    "    "
   ]
  },
  {
   "cell_type": "code",
   "execution_count": 21,
   "metadata": {},
   "outputs": [
    {
     "name": "stdout",
     "output_type": "stream",
     "text": [
      "Содержание Nox в уходящих газах =  68.49970717447957\n",
      "Суммарная эколого-экономическая нагрузка объекта генерации =  39669.657674248\n"
     ]
    }
   ],
   "source": [
    "nox, ecoLoad = CalcHarmfulEmissions(35168.33203125, 1.71512532234191, 448.3671875, 321.246749877929)\n",
    "print(\"Содержание Nox в уходящих газах = \", nox[0])\n",
    "print(\"Суммарная эколого-экономическая нагрузка объекта генерации = \", ecoLoad[0])\n",
    "#pd.array([35168.33203125, 1.71512532234191, 448.3671875, 321.246749877929])"
   ]
  },
  {
   "cell_type": "code",
   "execution_count": null,
   "metadata": {},
   "outputs": [],
   "source": []
  }
 ],
 "metadata": {
  "interpreter": {
   "hash": "af741f369a8dd187b80e5712a22afdb8733aeb51bfa419ddcaad81e3c7951da3"
  },
  "kernelspec": {
   "display_name": "Python 3.9.2 64-bit",
   "name": "python3"
  },
  "language_info": {
   "codemirror_mode": {
    "name": "ipython",
    "version": 3
   },
   "file_extension": ".py",
   "mimetype": "text/x-python",
   "name": "python",
   "nbconvert_exporter": "python",
   "pygments_lexer": "ipython3",
   "version": "3.9.2"
  },
  "metadata": {
   "interpreter": {
    "hash": "e08d7d52421aa3422474dfec6f77e03145399d1e9a6943afdeac6ab824481de1"
   }
  }
 },
 "nbformat": 4,
 "nbformat_minor": 4
}